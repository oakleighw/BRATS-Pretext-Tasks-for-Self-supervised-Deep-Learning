{
  "nbformat": 4,
  "nbformat_minor": 0,
  "metadata": {
    "colab": {
      "name": "BRATSLocationRegression(sagittal).ipynb",
      "provenance": [],
      "collapsed_sections": []
    },
    "kernelspec": {
      "name": "python3",
      "display_name": "Python 3"
    },
    "language_info": {
      "name": "python"
    },
    "accelerator": "GPU"
  },
  "cells": [
    {
      "cell_type": "markdown",
      "metadata": {
        "id": "U1nxG5IMTl0u"
      },
      "source": [
        "This BRATS Location Regression Model is based on Gabriel Atkin (2021) Age Prediction From Facial Images Model. Available at: https://www.kaggle.com/gcdatkin/age-prediction-from-images-cnn-regression [Last Accessed 30 July 2021]"
      ]
    },
    {
      "cell_type": "markdown",
      "metadata": {
        "id": "3u0FwSSvf05g"
      },
      "source": [
        "## Save BRATS Images"
      ]
    },
    {
      "cell_type": "code",
      "metadata": {
        "id": "QYRz6_VWI4XR"
      },
      "source": [
        "from google.colab import drive\n",
        "import nibabel as nib\n",
        "from scipy import ndimage\n",
        "import os\n",
        "from matplotlib import pyplot as plt\n",
        "%matplotlib inline\n",
        "import os.path"
      ],
      "execution_count": null,
      "outputs": []
    },
    {
      "cell_type": "code",
      "metadata": {
        "id": "dYNsFu8CTPhV",
        "colab": {
          "base_uri": "https://localhost:8080/"
        },
        "outputId": "2c7044b3-5a32-4d71-f0cb-dd9391f75460"
      },
      "source": [
        "# upload dataset here (deprecated for full dataset- using google drive mounting method)\n",
        "# from google.colab import files\n",
        "# datasetfile = files.upload()\n",
        "\n",
        "# mount google drive\n",
        "drive.mount('/content/drive')"
      ],
      "execution_count": null,
      "outputs": [
        {
          "output_type": "stream",
          "text": [
            "Mounted at /content/drive\n"
          ],
          "name": "stdout"
        }
      ]
    },
    {
      "cell_type": "code",
      "metadata": {
        "id": "BhAvxJpDTaOF"
      },
      "source": [
        "# list to store slices\n",
        "imgList = []\n",
        "labelList = []\n",
        "\n",
        "# index values which produce images\n",
        "# sagittal (i = 51 --> i = 186)\n",
        "# coronal  (i = 43 --> i = 218)\n",
        "# axial    (i = 10 --> i = 142)\n",
        "\n",
        "startIndex = 51\n",
        "endIndex = 186\n",
        "\n",
        "def store_img(file):\n",
        "  bratsImg = nib.load(file)\n",
        "  bratsImgData = bratsImg.get_fdata()\n",
        "\n",
        "  i = startIndex\n",
        "  while i < endIndex:\n",
        "    # rotate images to 0 degrees + store in list - SAGITTAL\n",
        "    rotatedImg = ndimage.rotate(bratsImgData[i,:,:], 90, mode = 'mirror')\n",
        "    imgList.append(rotatedImg.copy())\n",
        "\n",
        "    # store current index value\n",
        "    labelList.append(i)\n",
        "\n",
        "    i += 1\n",
        "\n",
        "# extract 100 flair files from BRATS HGG data folders\n",
        "dirHGG = '/content/drive/MyDrive/URVOS/Brats_2018_data.zip (Unzipped Files)/Brats_2018 data/HGG/'\n",
        "count = 0\n",
        "for folder in os.listdir(dirHGG):\n",
        "  for file in os.listdir(dirHGG + folder + '/'):\n",
        "    if count <= 100:\n",
        "      if file.endswith(\"flair.nii.gz\"):\n",
        "        store_img(dirHGG + folder + '/' + file)\n",
        "        count += 1"
      ],
      "execution_count": null,
      "outputs": []
    },
    {
      "cell_type": "code",
      "metadata": {
        "id": "pnPUo5uLVfDw"
      },
      "source": [
        "# create directories for each label\n",
        "mainDir = '/content/gdrive/bratsRegression/'\n",
        "\n",
        "for i in range(startIndex, endIndex):\n",
        "  if not os.path.exists(mainDir + str(i) + '/'):\n",
        "      os.makedirs(mainDir + str(i) + '/')"
      ],
      "execution_count": null,
      "outputs": []
    },
    {
      "cell_type": "code",
      "metadata": {
        "id": "VHX2sfD16mfd"
      },
      "source": [
        "# add list images to corresponding directories\n",
        "myPath = os.path.abspath(mainDir)\n",
        "\n",
        "i = startIndex\n",
        "j = 1\n",
        "for img in imgList:\n",
        "  if i == endIndex:\n",
        "    i = startIndex\n",
        "  plt.imsave(myPath + '/' + str(i) + '/' + str(j) + '.jpg', img)\n",
        "  i += 1\n",
        "  j += 1"
      ],
      "execution_count": null,
      "outputs": []
    },
    {
      "cell_type": "markdown",
      "metadata": {
        "id": "f4tCIRlRhLct"
      },
      "source": [
        "## Create file dataframe"
      ]
    },
    {
      "cell_type": "code",
      "metadata": {
        "id": "I4a1hJ_QimPW"
      },
      "source": [
        "from pathlib import Path\n",
        "import pandas as pd\n",
        "import numpy as np\n",
        "from sklearn.model_selection import train_test_split"
      ],
      "execution_count": null,
      "outputs": []
    },
    {
      "cell_type": "code",
      "metadata": {
        "id": "FvZy3X_oxMeI",
        "colab": {
          "base_uri": "https://localhost:8080/",
          "height": 419
        },
        "outputId": "e3744a02-c713-4f90-e4a4-6f1c3df2ef61"
      },
      "source": [
        "image_dir = Path('/content/gdrive/bratsRegression')\n",
        "\n",
        "# retrieve image directories and location labels\n",
        "filepaths = pd.Series(list(image_dir.glob(r'**/*.jpg')), name='Filepath').astype(str)\n",
        "locations = pd.Series(filepaths.apply(lambda x: os.path.split(os.path.split(x)[0])[1]), name='Location').astype(np.int)\n",
        "\n",
        "images = pd.concat([filepaths, locations], axis=1).sample(frac=1.0, random_state=1).reset_index(drop=True)\n",
        "\n",
        "images"
      ],
      "execution_count": null,
      "outputs": [
        {
          "output_type": "execute_result",
          "data": {
            "text/html": [
              "<div>\n",
              "<style scoped>\n",
              "    .dataframe tbody tr th:only-of-type {\n",
              "        vertical-align: middle;\n",
              "    }\n",
              "\n",
              "    .dataframe tbody tr th {\n",
              "        vertical-align: top;\n",
              "    }\n",
              "\n",
              "    .dataframe thead th {\n",
              "        text-align: right;\n",
              "    }\n",
              "</style>\n",
              "<table border=\"1\" class=\"dataframe\">\n",
              "  <thead>\n",
              "    <tr style=\"text-align: right;\">\n",
              "      <th></th>\n",
              "      <th>Filepath</th>\n",
              "      <th>Location</th>\n",
              "    </tr>\n",
              "  </thead>\n",
              "  <tbody>\n",
              "    <tr>\n",
              "      <th>0</th>\n",
              "      <td>/content/gdrive/bratsRegression/165/9160.jpg</td>\n",
              "      <td>165</td>\n",
              "    </tr>\n",
              "    <tr>\n",
              "      <th>1</th>\n",
              "      <td>/content/gdrive/bratsRegression/116/2091.jpg</td>\n",
              "      <td>116</td>\n",
              "    </tr>\n",
              "    <tr>\n",
              "      <th>2</th>\n",
              "      <td>/content/gdrive/bratsRegression/54/2299.jpg</td>\n",
              "      <td>54</td>\n",
              "    </tr>\n",
              "    <tr>\n",
              "      <th>3</th>\n",
              "      <td>/content/gdrive/bratsRegression/137/11832.jpg</td>\n",
              "      <td>137</td>\n",
              "    </tr>\n",
              "    <tr>\n",
              "      <th>4</th>\n",
              "      <td>/content/gdrive/bratsRegression/155/2535.jpg</td>\n",
              "      <td>155</td>\n",
              "    </tr>\n",
              "    <tr>\n",
              "      <th>...</th>\n",
              "      <td>...</td>\n",
              "      <td>...</td>\n",
              "    </tr>\n",
              "    <tr>\n",
              "      <th>13630</th>\n",
              "      <td>/content/gdrive/bratsRegression/164/3624.jpg</td>\n",
              "      <td>164</td>\n",
              "    </tr>\n",
              "    <tr>\n",
              "      <th>13631</th>\n",
              "      <td>/content/gdrive/bratsRegression/173/4578.jpg</td>\n",
              "      <td>173</td>\n",
              "    </tr>\n",
              "    <tr>\n",
              "      <th>13632</th>\n",
              "      <td>/content/gdrive/bratsRegression/143/4413.jpg</td>\n",
              "      <td>143</td>\n",
              "    </tr>\n",
              "    <tr>\n",
              "      <th>13633</th>\n",
              "      <td>/content/gdrive/bratsRegression/120/3310.jpg</td>\n",
              "      <td>120</td>\n",
              "    </tr>\n",
              "    <tr>\n",
              "      <th>13634</th>\n",
              "      <td>/content/gdrive/bratsRegression/168/4438.jpg</td>\n",
              "      <td>168</td>\n",
              "    </tr>\n",
              "  </tbody>\n",
              "</table>\n",
              "<p>13635 rows × 2 columns</p>\n",
              "</div>"
            ],
            "text/plain": [
              "                                            Filepath  Location\n",
              "0       /content/gdrive/bratsRegression/165/9160.jpg       165\n",
              "1       /content/gdrive/bratsRegression/116/2091.jpg       116\n",
              "2        /content/gdrive/bratsRegression/54/2299.jpg        54\n",
              "3      /content/gdrive/bratsRegression/137/11832.jpg       137\n",
              "4       /content/gdrive/bratsRegression/155/2535.jpg       155\n",
              "...                                              ...       ...\n",
              "13630   /content/gdrive/bratsRegression/164/3624.jpg       164\n",
              "13631   /content/gdrive/bratsRegression/173/4578.jpg       173\n",
              "13632   /content/gdrive/bratsRegression/143/4413.jpg       143\n",
              "13633   /content/gdrive/bratsRegression/120/3310.jpg       120\n",
              "13634   /content/gdrive/bratsRegression/168/4438.jpg       168\n",
              "\n",
              "[13635 rows x 2 columns]"
            ]
          },
          "metadata": {
            "tags": []
          },
          "execution_count": 7
        }
      ]
    },
    {
      "cell_type": "code",
      "metadata": {
        "id": "-oyJmBL_mKYq"
      },
      "source": [
        "# only use 5000 images to speed up training time\n",
        "#image_df = images.sample(5000, random_state=1).reset_index(drop=True)\n",
        "image_df = images\n",
        "\n",
        "# assign 70% of images to train set\n",
        "train_df, test_df = train_test_split(image_df, train_size=0.7, shuffle=True, random_state=1)"
      ],
      "execution_count": null,
      "outputs": []
    },
    {
      "cell_type": "markdown",
      "metadata": {
        "id": "z605yinmkfER"
      },
      "source": [
        "## Load Images"
      ]
    },
    {
      "cell_type": "code",
      "metadata": {
        "id": "rCbIlbI_kmY-"
      },
      "source": [
        "import tensorflow as tf"
      ],
      "execution_count": null,
      "outputs": []
    },
    {
      "cell_type": "code",
      "metadata": {
        "id": "O_hKAnJfxZPg"
      },
      "source": [
        "# specify transformations\n",
        "train_generator = tf.keras.preprocessing.image.ImageDataGenerator(\n",
        "    # test set at 20%\n",
        "    validation_split=0.2\n",
        ")\n",
        "\n",
        "test_generator = tf.keras.preprocessing.image.ImageDataGenerator(\n",
        ")"
      ],
      "execution_count": null,
      "outputs": []
    },
    {
      "cell_type": "code",
      "metadata": {
        "id": "DZh4rNW4ysXh",
        "colab": {
          "base_uri": "https://localhost:8080/"
        },
        "outputId": "590516c4-15db-4214-b911-00d4294ba7f5"
      },
      "source": [
        "train_images = train_generator.flow_from_dataframe(\n",
        "    dataframe=train_df,\n",
        "    x_col='Filepath',\n",
        "    y_col='Location',\n",
        "    target_size=(240, 240),\n",
        "    class_mode='raw',\n",
        "    batch_size=25,\n",
        "    shuffle=True,\n",
        "    seed=42,\n",
        "    subset='training'\n",
        ")\n",
        "\n",
        "val_images = train_generator.flow_from_dataframe(\n",
        "    dataframe=train_df,\n",
        "    x_col='Filepath',\n",
        "    y_col='Location',\n",
        "    target_size=(240, 240),\n",
        "    class_mode='raw',\n",
        "    batch_size=25,\n",
        "    shuffle=True,\n",
        "    seed=42,\n",
        "    subset='validation'\n",
        ")\n",
        "\n",
        "test_images = test_generator.flow_from_dataframe(\n",
        "    dataframe=test_df,\n",
        "    x_col='Filepath',\n",
        "    y_col='Location',\n",
        "    target_size=(240, 240),\n",
        "    class_mode='raw',\n",
        "    batch_size=25,\n",
        "    shuffle=False\n",
        ")"
      ],
      "execution_count": null,
      "outputs": [
        {
          "output_type": "stream",
          "text": [
            "Found 7636 validated image filenames.\n",
            "Found 1908 validated image filenames.\n",
            "Found 4091 validated image filenames.\n"
          ],
          "name": "stdout"
        }
      ]
    },
    {
      "cell_type": "markdown",
      "metadata": {
        "id": "CFXK4ZKDlYRM"
      },
      "source": [
        "## Training"
      ]
    },
    {
      "cell_type": "code",
      "metadata": {
        "id": "SnaVJeOfysrk",
        "colab": {
          "base_uri": "https://localhost:8080/"
        },
        "outputId": "00dd334f-f1bf-46f5-ca94-0065ffcf8d1e"
      },
      "source": [
        "inputs = tf.keras.Input(shape=(240, 240, 3))\n",
        "x = tf.keras.layers.Conv2D(filters=16, kernel_size=(3, 3), activation='relu')(inputs)\n",
        "x = tf.keras.layers.MaxPool2D()(x)\n",
        "x = tf.keras.layers.Conv2D(filters=32, kernel_size=(3, 3), activation='relu')(x)\n",
        "x = tf.keras.layers.MaxPool2D()(x)\n",
        "x = tf.keras.layers.GlobalAveragePooling2D()(x)\n",
        "x = tf.keras.layers.Dense(64, activation='relu')(x)\n",
        "x = tf.keras.layers.Dense(64, activation='relu')(x)\n",
        "outputs = tf.keras.layers.Dense(1, activation='linear')(x)\n",
        "\n",
        "model = tf.keras.Model(inputs=inputs, outputs=outputs)\n",
        "\n",
        "model.compile(\n",
        "    optimizer='adam',\n",
        "    loss='mse'\n",
        ")\n",
        "\n",
        "history = model.fit(\n",
        "    train_images,\n",
        "    validation_data=val_images,\n",
        "    epochs=100,\n",
        "    callbacks=[\n",
        "               tf.keras.callbacks.EarlyStopping(\n",
        "                   monitor='val_loss',\n",
        "                   patience=5,\n",
        "                   restore_best_weights=True\n",
        "                   )\n",
        "               ]\n",
        ")"
      ],
      "execution_count": null,
      "outputs": [
        {
          "output_type": "stream",
          "text": [
            "Epoch 1/100\n",
            "306/306 [==============================] - 51s 72ms/step - loss: 1919.6090 - val_loss: 1506.0885\n",
            "Epoch 2/100\n",
            "306/306 [==============================] - 22s 71ms/step - loss: 1555.8458 - val_loss: 1517.5074\n",
            "Epoch 3/100\n",
            "306/306 [==============================] - 22s 71ms/step - loss: 1536.8691 - val_loss: 1552.0156\n",
            "Epoch 4/100\n",
            "306/306 [==============================] - 22s 71ms/step - loss: 1563.0172 - val_loss: 1496.1128\n",
            "Epoch 5/100\n",
            "306/306 [==============================] - 22s 71ms/step - loss: 1550.8329 - val_loss: 1476.6542\n",
            "Epoch 6/100\n",
            "306/306 [==============================] - 22s 72ms/step - loss: 1515.5597 - val_loss: 1494.3953\n",
            "Epoch 7/100\n",
            "306/306 [==============================] - 22s 71ms/step - loss: 1512.5165 - val_loss: 1464.7815\n",
            "Epoch 8/100\n",
            "306/306 [==============================] - 22s 70ms/step - loss: 1501.7694 - val_loss: 1460.2456\n",
            "Epoch 9/100\n",
            "306/306 [==============================] - 22s 71ms/step - loss: 1536.1798 - val_loss: 1464.5515\n",
            "Epoch 10/100\n",
            "306/306 [==============================] - 22s 71ms/step - loss: 1515.3037 - val_loss: 1481.7091\n",
            "Epoch 11/100\n",
            "306/306 [==============================] - 22s 70ms/step - loss: 1514.0948 - val_loss: 1453.7681\n",
            "Epoch 12/100\n",
            "306/306 [==============================] - 22s 70ms/step - loss: 1525.7501 - val_loss: 1463.9805\n",
            "Epoch 13/100\n",
            "306/306 [==============================] - 21s 70ms/step - loss: 1509.1259 - val_loss: 1452.8053\n",
            "Epoch 14/100\n",
            "306/306 [==============================] - 21s 70ms/step - loss: 1498.6616 - val_loss: 1463.5339\n",
            "Epoch 15/100\n",
            "306/306 [==============================] - 22s 71ms/step - loss: 1494.9304 - val_loss: 1465.4813\n",
            "Epoch 16/100\n",
            "306/306 [==============================] - 22s 71ms/step - loss: 1503.7722 - val_loss: 1520.5381\n",
            "Epoch 17/100\n",
            "306/306 [==============================] - 22s 70ms/step - loss: 1497.8881 - val_loss: 1458.0880\n",
            "Epoch 18/100\n",
            "306/306 [==============================] - 22s 71ms/step - loss: 1482.7705 - val_loss: 1437.7256\n",
            "Epoch 19/100\n",
            "306/306 [==============================] - 22s 71ms/step - loss: 1477.7845 - val_loss: 1582.4694\n",
            "Epoch 20/100\n",
            "306/306 [==============================] - 22s 71ms/step - loss: 1468.3745 - val_loss: 1452.7709\n",
            "Epoch 21/100\n",
            "306/306 [==============================] - 22s 71ms/step - loss: 1473.4916 - val_loss: 1435.7480\n",
            "Epoch 22/100\n",
            "306/306 [==============================] - 22s 70ms/step - loss: 1475.7960 - val_loss: 1427.2095\n",
            "Epoch 23/100\n",
            "306/306 [==============================] - 22s 72ms/step - loss: 1460.5759 - val_loss: 1446.1968\n",
            "Epoch 24/100\n",
            "306/306 [==============================] - 22s 72ms/step - loss: 1473.6588 - val_loss: 1429.3560\n",
            "Epoch 25/100\n",
            "306/306 [==============================] - 22s 71ms/step - loss: 1449.4569 - val_loss: 1426.9982\n",
            "Epoch 26/100\n",
            "306/306 [==============================] - 22s 71ms/step - loss: 1448.4581 - val_loss: 1403.3640\n",
            "Epoch 27/100\n",
            "306/306 [==============================] - 22s 71ms/step - loss: 1443.9009 - val_loss: 1422.3805\n",
            "Epoch 28/100\n",
            "306/306 [==============================] - 22s 71ms/step - loss: 1428.8806 - val_loss: 1467.0500\n",
            "Epoch 29/100\n",
            "306/306 [==============================] - 22s 71ms/step - loss: 1432.9244 - val_loss: 1371.6052\n",
            "Epoch 30/100\n",
            "306/306 [==============================] - 22s 71ms/step - loss: 1400.8922 - val_loss: 1358.6559\n",
            "Epoch 31/100\n",
            "306/306 [==============================] - 21s 70ms/step - loss: 1401.4701 - val_loss: 1470.4446\n",
            "Epoch 32/100\n",
            "306/306 [==============================] - 21s 70ms/step - loss: 1408.6946 - val_loss: 1405.2928\n",
            "Epoch 33/100\n",
            "306/306 [==============================] - 22s 70ms/step - loss: 1380.8901 - val_loss: 1565.0251\n",
            "Epoch 34/100\n",
            "306/306 [==============================] - 22s 71ms/step - loss: 1383.6512 - val_loss: 1357.0050\n",
            "Epoch 35/100\n",
            "306/306 [==============================] - 22s 70ms/step - loss: 1385.9294 - val_loss: 1348.0244\n",
            "Epoch 36/100\n",
            "306/306 [==============================] - 22s 71ms/step - loss: 1362.5894 - val_loss: 1313.9045\n",
            "Epoch 37/100\n",
            "306/306 [==============================] - 22s 71ms/step - loss: 1361.6061 - val_loss: 1351.9852\n",
            "Epoch 38/100\n",
            "306/306 [==============================] - 22s 71ms/step - loss: 1331.7289 - val_loss: 1321.0389\n",
            "Epoch 39/100\n",
            "306/306 [==============================] - 22s 71ms/step - loss: 1356.0151 - val_loss: 1322.4276\n",
            "Epoch 40/100\n",
            "306/306 [==============================] - 22s 71ms/step - loss: 1359.2598 - val_loss: 1305.7703\n",
            "Epoch 41/100\n",
            "306/306 [==============================] - 22s 70ms/step - loss: 1327.1443 - val_loss: 1378.7566\n",
            "Epoch 42/100\n",
            "306/306 [==============================] - 22s 71ms/step - loss: 1318.8512 - val_loss: 1299.6831\n",
            "Epoch 43/100\n",
            "306/306 [==============================] - 22s 71ms/step - loss: 1317.1073 - val_loss: 1273.0662\n",
            "Epoch 44/100\n",
            "306/306 [==============================] - 22s 71ms/step - loss: 1300.0187 - val_loss: 1287.9926\n",
            "Epoch 45/100\n",
            "306/306 [==============================] - 22s 71ms/step - loss: 1300.1396 - val_loss: 1295.3278\n",
            "Epoch 46/100\n",
            "306/306 [==============================] - 22s 71ms/step - loss: 1298.7200 - val_loss: 1324.6965\n",
            "Epoch 47/100\n",
            "306/306 [==============================] - 22s 71ms/step - loss: 1288.9731 - val_loss: 1288.5483\n",
            "Epoch 48/100\n",
            "306/306 [==============================] - 22s 72ms/step - loss: 1280.6277 - val_loss: 1266.5120\n",
            "Epoch 49/100\n",
            "306/306 [==============================] - 22s 72ms/step - loss: 1290.4316 - val_loss: 1323.4379\n",
            "Epoch 50/100\n",
            "306/306 [==============================] - 22s 72ms/step - loss: 1290.4608 - val_loss: 1282.3081\n",
            "Epoch 51/100\n",
            "306/306 [==============================] - 22s 72ms/step - loss: 1273.7429 - val_loss: 1322.1119\n",
            "Epoch 52/100\n",
            "306/306 [==============================] - 22s 72ms/step - loss: 1290.0872 - val_loss: 1264.4719\n",
            "Epoch 53/100\n",
            "306/306 [==============================] - 22s 71ms/step - loss: 1252.9084 - val_loss: 1294.0105\n",
            "Epoch 54/100\n",
            "306/306 [==============================] - 22s 72ms/step - loss: 1273.5920 - val_loss: 1360.3611\n",
            "Epoch 55/100\n",
            "306/306 [==============================] - 22s 71ms/step - loss: 1265.0654 - val_loss: 1310.7704\n",
            "Epoch 56/100\n",
            "306/306 [==============================] - 22s 71ms/step - loss: 1254.4072 - val_loss: 1248.2224\n",
            "Epoch 57/100\n",
            "306/306 [==============================] - 22s 71ms/step - loss: 1255.1569 - val_loss: 1258.9015\n",
            "Epoch 58/100\n",
            "306/306 [==============================] - 22s 71ms/step - loss: 1255.0389 - val_loss: 1244.4222\n",
            "Epoch 59/100\n",
            "306/306 [==============================] - 22s 71ms/step - loss: 1255.2336 - val_loss: 1320.2537\n",
            "Epoch 60/100\n",
            "306/306 [==============================] - 22s 71ms/step - loss: 1244.6102 - val_loss: 1277.3632\n",
            "Epoch 61/100\n",
            "306/306 [==============================] - 22s 71ms/step - loss: 1234.4677 - val_loss: 1292.0099\n",
            "Epoch 62/100\n",
            "306/306 [==============================] - 22s 72ms/step - loss: 1232.9982 - val_loss: 1344.7860\n",
            "Epoch 63/100\n",
            "306/306 [==============================] - 22s 71ms/step - loss: 1220.5516 - val_loss: 1266.5692\n"
          ],
          "name": "stdout"
        }
      ]
    },
    {
      "cell_type": "markdown",
      "metadata": {
        "id": "4Lm11foPl0Eo"
      },
      "source": [
        "## Results"
      ]
    },
    {
      "cell_type": "code",
      "metadata": {
        "id": "fnGu7N8al25-"
      },
      "source": [
        "from sklearn.metrics import r2_score"
      ],
      "execution_count": null,
      "outputs": []
    },
    {
      "cell_type": "code",
      "metadata": {
        "id": "jDFy-Sm9y1X-",
        "colab": {
          "base_uri": "https://localhost:8080/",
          "height": 332
        },
        "outputId": "b2c7ca0b-748a-4dc2-8f46-51edab877815"
      },
      "source": [
        "# plot loss\n",
        "loss = history.history['loss']\n",
        "val_loss = history.history['val_loss']\n",
        "\n",
        "epochs = range(len(loss))\n",
        "\n",
        "plt.plot(epochs, loss, 'r', label = 'Training loss')\n",
        "plt.plot(epochs, val_loss, 'b', label='Validation loss')\n",
        "plt.title('Training and validation loss')\n",
        "plt.legend(loc=0)\n",
        "plt.figure()\n",
        "\n",
        "plt.show()\n",
        "\n",
        "predicted_locations = np.squeeze(model.predict(test_images))\n",
        "true_locations = test_images.labels\n",
        "\n",
        "# root mean square error - average distance between the predicted values from the model and the actual values in the dataset\n",
        "rmse = np.sqrt(model.evaluate(test_images, verbose=0))\n",
        "print(\"Test RMSE: {:.5f}\".format(rmse))\n",
        "\n",
        "# r2 score - to what extent the variance of one variable explains the variance of the second variable\n",
        "r2 = r2_score(true_locations, predicted_locations)\n",
        "print(\"Test R^2 Score: {:.5f}%\".format(r2*100))"
      ],
      "execution_count": null,
      "outputs": [
        {
          "output_type": "display_data",
          "data": {
            "image/png": "[encoded data removed]",
            "text/plain": [
              "<Figure size 432x288 with 1 Axes>"
            ]
          },
          "metadata": {
            "tags": [],
            "needs_background": "light"
          }
        },
        {
          "output_type": "display_data",
          "data": {
            "text/plain": [
              "<Figure size 432x288 with 0 Axes>"
            ]
          },
          "metadata": {
            "tags": []
          }
        },
        {
          "output_type": "stream",
          "text": [
            "Test RMSE: 35.92353\n",
            "Test R^2 Score: 16.05037%\n"
          ],
          "name": "stdout"
        }
      ]
    },
    {
      "cell_type": "code",
      "metadata": {
        "id": "BOSg1TyRukti",
        "colab": {
          "resources": {
            "http://localhost:8080/nbextensions/google.colab/files.js": {
              "data": "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",
              "ok": true,
              "headers": [
                [
                  "content-type",
                  "application/javascript"
                ]
              ],
              "status": 200,
              "status_text": ""
            }
          },
          "base_uri": "https://localhost:8080/",
          "height": 106
        },
        "outputId": "0df53cf9-5547-4d7f-eb40-723562e41688"
      },
      "source": [
        "#test out-of-sample images by SEPERATE UPLOAD\n",
        "from google.colab import files\n",
        "from keras.preprocessing import image\n",
        "\n",
        "uploaded = files.upload()\n",
        "\n",
        "for fn in uploaded.keys():\n",
        "  path = fn\n",
        "  img = image.load_img(path, target_size = (240,240))\n",
        "  x = image.img_to_array(img)\n",
        "  x = np.expand_dims(x, axis = 0)\n",
        "\n",
        "  images = np.vstack([x])\n",
        "  location = model.predict(images, batch_size=1)\n",
        "  print(\"\\nLocation: \" + str(round(location[0][0])))"
      ],
      "execution_count": null,
      "outputs": [
        {
          "output_type": "display_data",
          "data": {
            "text/html": [
              "\n",
              "     <input type=\"file\" id=\"files-47fee220-a35e-41d1-a573-e130f402c81f\" name=\"files[]\" multiple disabled\n",
              "        style=\"border:none\" />\n",
              "     <output id=\"result-47fee220-a35e-41d1-a573-e130f402c81f\">\n",
              "      Upload widget is only available when the cell has been executed in the\n",
              "      current browser session. Please rerun this cell to enable.\n",
              "      </output>\n",
              "      <script src=\"/nbextensions/google.colab/files.js\"></script> "
            ],
            "text/plain": [
              "<IPython.core.display.HTML object>"
            ]
          },
          "metadata": {
            "tags": []
          }
        },
        {
          "output_type": "stream",
          "text": [
            "Saving sag100.jpg to sag100.jpg\n",
            "\n",
            "Location: 114\n"
          ],
          "name": "stdout"
        }
      ]
    },
    {
      "cell_type": "code",
      "metadata": {
        "id": "hPw_2PDpLUBX"
      },
      "source": [
        ""
      ],
      "execution_count": null,
      "outputs": []
    }
  ]
}