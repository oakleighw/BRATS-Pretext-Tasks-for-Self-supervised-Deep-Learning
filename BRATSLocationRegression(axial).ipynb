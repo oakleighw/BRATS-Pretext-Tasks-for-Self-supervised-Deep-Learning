{
  "nbformat": 4,
  "nbformat_minor": 0,
  "metadata": {
    "colab": {
      "name": "BRATSLocationRegression(axial).ipynb",
      "provenance": [],
      "collapsed_sections": []
    },
    "kernelspec": {
      "name": "python3",
      "display_name": "Python 3"
    },
    "language_info": {
      "name": "python"
    },
    "accelerator": "GPU"
  },
  "cells": [
    {
      "cell_type": "markdown",
      "metadata": {
        "id": "U1nxG5IMTl0u"
      },
      "source": [
        "This BRATS Location Regression Model is based on Gabriel Atkin (2021) Age Prediction From Facial Images Model. Available at: https://www.kaggle.com/gcdatkin/age-prediction-from-images-cnn-regression [Last Accessed 30 July 2021]"
      ]
    },
    {
      "cell_type": "markdown",
      "metadata": {
        "id": "3u0FwSSvf05g"
      },
      "source": [
        "## Save BRATS Images"
      ]
    },
    {
      "cell_type": "code",
      "metadata": {
        "id": "QYRz6_VWI4XR"
      },
      "source": [
        "from google.colab import drive\n",
        "import nibabel as nib\n",
        "from scipy import ndimage\n",
        "import os\n",
        "from matplotlib import pyplot as plt\n",
        "%matplotlib inline\n",
        "import os.path"
      ],
      "execution_count": null,
      "outputs": []
    },
    {
      "cell_type": "code",
      "metadata": {
        "colab": {
          "base_uri": "https://localhost:8080/"
        },
        "id": "dYNsFu8CTPhV",
        "outputId": "3d441254-f853-4791-f101-1ccead63e5df"
      },
      "source": [
        "# upload dataset here (deprecated for full dataset- using google drive mounting method)\n",
        "# from google.colab import files\n",
        "# datasetfile = files.upload()\n",
        "\n",
        "# mount google drive\n",
        "drive.mount('/content/drive')"
      ],
      "execution_count": null,
      "outputs": [
        {
          "output_type": "stream",
          "text": [
            "Mounted at /content/drive\n"
          ],
          "name": "stdout"
        }
      ]
    },
    {
      "cell_type": "code",
      "metadata": {
        "id": "BhAvxJpDTaOF"
      },
      "source": [
        "# list to store slices\n",
        "imgList = []\n",
        "labelList = []\n",
        "\n",
        "# index values which produce images\n",
        "# sagittal (i = 51 --> i = 186)\n",
        "# coronal  (i = 43 --> i = 218)\n",
        "# axial    (i = 10 --> i = 142)\n",
        "\n",
        "startIndex = 10\n",
        "endIndex = 142\n",
        "\n",
        "def store_img(file):\n",
        "  bratsImg = nib.load(file)\n",
        "  bratsImgData = bratsImg.get_fdata()\n",
        "\n",
        "  i = startIndex\n",
        "  while i < endIndex:\n",
        "    # rotate images to 0 degrees + store in list - AXIAL\n",
        "    rotatedImg = ndimage.rotate(bratsImgData[:,:,i], 90, mode = 'mirror')\n",
        "    imgList.append(rotatedImg.copy())\n",
        "\n",
        "    # store current index value\n",
        "    labelList.append(i)\n",
        "\n",
        "    i += 1\n",
        "\n",
        "# extract 100 flair files from BRATS HGG data folders\n",
        "dirHGG = '/content/drive/MyDrive/URVOS/Brats_2018_data.zip (Unzipped Files)/Brats_2018 data/HGG/'\n",
        "count = 0\n",
        "for folder in os.listdir(dirHGG):\n",
        "  for file in os.listdir(dirHGG + folder + '/'):\n",
        "    if count <= 100:\n",
        "      if file.endswith(\"flair.nii.gz\"):\n",
        "        store_img(dirHGG + folder + '/' + file)\n",
        "        count += 1"
      ],
      "execution_count": null,
      "outputs": []
    },
    {
      "cell_type": "code",
      "metadata": {
        "id": "pnPUo5uLVfDw"
      },
      "source": [
        "# create directories for each label\n",
        "mainDir = '/content/gdrive/bratsRegression/'\n",
        "\n",
        "for i in range(startIndex, endIndex):\n",
        "  if not os.path.exists(mainDir + str(i) + '/'):\n",
        "      os.makedirs(mainDir + str(i) + '/')"
      ],
      "execution_count": null,
      "outputs": []
    },
    {
      "cell_type": "code",
      "metadata": {
        "id": "VHX2sfD16mfd"
      },
      "source": [
        "# add list images to corresponding directories\n",
        "myPath = os.path.abspath(mainDir)\n",
        "\n",
        "i = startIndex\n",
        "j = 1\n",
        "for img in imgList:\n",
        "  if i == endIndex:\n",
        "    i = startIndex\n",
        "  plt.imsave(myPath + '/' + str(i) + '/' + str(j) + '.jpg', img)\n",
        "  i += 1\n",
        "  j += 1"
      ],
      "execution_count": null,
      "outputs": []
    },
    {
      "cell_type": "markdown",
      "metadata": {
        "id": "f4tCIRlRhLct"
      },
      "source": [
        "## Create file dataframe"
      ]
    },
    {
      "cell_type": "code",
      "metadata": {
        "id": "I4a1hJ_QimPW"
      },
      "source": [
        "from pathlib import Path\n",
        "import pandas as pd\n",
        "import numpy as np\n",
        "from sklearn.model_selection import train_test_split"
      ],
      "execution_count": null,
      "outputs": []
    },
    {
      "cell_type": "code",
      "metadata": {
        "colab": {
          "base_uri": "https://localhost:8080/",
          "height": 419
        },
        "id": "FvZy3X_oxMeI",
        "outputId": "b2d56211-06d0-44f5-a5a0-6fe78e38b016"
      },
      "source": [
        "image_dir = Path('/content/gdrive/bratsRegression')\n",
        "\n",
        "# retrieve image directories and location labels\n",
        "filepaths = pd.Series(list(image_dir.glob(r'**/*.jpg')), name='Filepath').astype(str)\n",
        "locations = pd.Series(filepaths.apply(lambda x: os.path.split(os.path.split(x)[0])[1]), name='Location').astype(np.int)\n",
        "\n",
        "images = pd.concat([filepaths, locations], axis=1).sample(frac=1.0, random_state=1).reset_index(drop=True)\n",
        "\n",
        "images"
      ],
      "execution_count": null,
      "outputs": [
        {
          "output_type": "execute_result",
          "data": {
            "text/html": [
              "<div>\n",
              "<style scoped>\n",
              "    .dataframe tbody tr th:only-of-type {\n",
              "        vertical-align: middle;\n",
              "    }\n",
              "\n",
              "    .dataframe tbody tr th {\n",
              "        vertical-align: top;\n",
              "    }\n",
              "\n",
              "    .dataframe thead th {\n",
              "        text-align: right;\n",
              "    }\n",
              "</style>\n",
              "<table border=\"1\" class=\"dataframe\">\n",
              "  <thead>\n",
              "    <tr style=\"text-align: right;\">\n",
              "      <th></th>\n",
              "      <th>Filepath</th>\n",
              "      <th>Location</th>\n",
              "    </tr>\n",
              "  </thead>\n",
              "  <tbody>\n",
              "    <tr>\n",
              "      <th>0</th>\n",
              "      <td>/content/gdrive/bratsRegression/48/12711.jpg</td>\n",
              "      <td>48</td>\n",
              "    </tr>\n",
              "    <tr>\n",
              "      <th>1</th>\n",
              "      <td>/content/gdrive/bratsRegression/25/6880.jpg</td>\n",
              "      <td>25</td>\n",
              "    </tr>\n",
              "    <tr>\n",
              "      <th>2</th>\n",
              "      <td>/content/gdrive/bratsRegression/113/11192.jpg</td>\n",
              "      <td>113</td>\n",
              "    </tr>\n",
              "    <tr>\n",
              "      <th>3</th>\n",
              "      <td>/content/gdrive/bratsRegression/27/7278.jpg</td>\n",
              "      <td>27</td>\n",
              "    </tr>\n",
              "    <tr>\n",
              "      <th>4</th>\n",
              "      <td>/content/gdrive/bratsRegression/74/2045.jpg</td>\n",
              "      <td>74</td>\n",
              "    </tr>\n",
              "    <tr>\n",
              "      <th>...</th>\n",
              "      <td>...</td>\n",
              "      <td>...</td>\n",
              "    </tr>\n",
              "    <tr>\n",
              "      <th>13327</th>\n",
              "      <td>/content/gdrive/bratsRegression/114/1953.jpg</td>\n",
              "      <td>114</td>\n",
              "    </tr>\n",
              "    <tr>\n",
              "      <th>13328</th>\n",
              "      <td>/content/gdrive/bratsRegression/32/12695.jpg</td>\n",
              "      <td>32</td>\n",
              "    </tr>\n",
              "    <tr>\n",
              "      <th>13329</th>\n",
              "      <td>/content/gdrive/bratsRegression/79/5086.jpg</td>\n",
              "      <td>79</td>\n",
              "    </tr>\n",
              "    <tr>\n",
              "      <th>13330</th>\n",
              "      <td>/content/gdrive/bratsRegression/81/4560.jpg</td>\n",
              "      <td>81</td>\n",
              "    </tr>\n",
              "    <tr>\n",
              "      <th>13331</th>\n",
              "      <td>/content/gdrive/bratsRegression/120/10407.jpg</td>\n",
              "      <td>120</td>\n",
              "    </tr>\n",
              "  </tbody>\n",
              "</table>\n",
              "<p>13332 rows × 2 columns</p>\n",
              "</div>"
            ],
            "text/plain": [
              "                                            Filepath  Location\n",
              "0       /content/gdrive/bratsRegression/48/12711.jpg        48\n",
              "1        /content/gdrive/bratsRegression/25/6880.jpg        25\n",
              "2      /content/gdrive/bratsRegression/113/11192.jpg       113\n",
              "3        /content/gdrive/bratsRegression/27/7278.jpg        27\n",
              "4        /content/gdrive/bratsRegression/74/2045.jpg        74\n",
              "...                                              ...       ...\n",
              "13327   /content/gdrive/bratsRegression/114/1953.jpg       114\n",
              "13328   /content/gdrive/bratsRegression/32/12695.jpg        32\n",
              "13329    /content/gdrive/bratsRegression/79/5086.jpg        79\n",
              "13330    /content/gdrive/bratsRegression/81/4560.jpg        81\n",
              "13331  /content/gdrive/bratsRegression/120/10407.jpg       120\n",
              "\n",
              "[13332 rows x 2 columns]"
            ]
          },
          "metadata": {
            "tags": []
          },
          "execution_count": 9
        }
      ]
    },
    {
      "cell_type": "code",
      "metadata": {
        "id": "-oyJmBL_mKYq"
      },
      "source": [
        "# only use 5000 images to speed up training time\n",
        "#image_df = images.sample(5000, random_state=1).reset_index(drop=True)\n",
        "image_df = images\n",
        "\n",
        "# assign 70% of images to train set\n",
        "train_df, test_df = train_test_split(image_df, train_size=0.7, shuffle=True, random_state=1)"
      ],
      "execution_count": null,
      "outputs": []
    },
    {
      "cell_type": "markdown",
      "metadata": {
        "id": "z605yinmkfER"
      },
      "source": [
        "## Load Images"
      ]
    },
    {
      "cell_type": "code",
      "metadata": {
        "id": "rCbIlbI_kmY-"
      },
      "source": [
        "import tensorflow as tf"
      ],
      "execution_count": null,
      "outputs": []
    },
    {
      "cell_type": "code",
      "metadata": {
        "id": "O_hKAnJfxZPg"
      },
      "source": [
        "# specify transformations\n",
        "train_generator = tf.keras.preprocessing.image.ImageDataGenerator(\n",
        "    # test set at 20%\n",
        "    validation_split=0.2\n",
        ")\n",
        "\n",
        "test_generator = tf.keras.preprocessing.image.ImageDataGenerator(\n",
        ")"
      ],
      "execution_count": null,
      "outputs": []
    },
    {
      "cell_type": "code",
      "metadata": {
        "colab": {
          "base_uri": "https://localhost:8080/"
        },
        "id": "DZh4rNW4ysXh",
        "outputId": "e4a7facf-f521-4b56-84a3-4ff85c013a55"
      },
      "source": [
        "train_images = train_generator.flow_from_dataframe(\n",
        "    dataframe=train_df,\n",
        "    x_col='Filepath',\n",
        "    y_col='Location',\n",
        "    target_size=(240, 240),\n",
        "    class_mode='raw',\n",
        "    batch_size=25,\n",
        "    shuffle=True,\n",
        "    seed=42,\n",
        "    subset='training'\n",
        ")\n",
        "\n",
        "val_images = train_generator.flow_from_dataframe(\n",
        "    dataframe=train_df,\n",
        "    x_col='Filepath',\n",
        "    y_col='Location',\n",
        "    target_size=(240, 240),\n",
        "    class_mode='raw',\n",
        "    batch_size=25,\n",
        "    shuffle=True,\n",
        "    seed=42,\n",
        "    subset='validation'\n",
        ")\n",
        "\n",
        "test_images = test_generator.flow_from_dataframe(\n",
        "    dataframe=test_df,\n",
        "    x_col='Filepath',\n",
        "    y_col='Location',\n",
        "    target_size=(240, 240),\n",
        "    class_mode='raw',\n",
        "    batch_size=25,\n",
        "    shuffle=False\n",
        ")"
      ],
      "execution_count": null,
      "outputs": [
        {
          "output_type": "stream",
          "text": [
            "Found 7466 validated image filenames.\n",
            "Found 1866 validated image filenames.\n",
            "Found 4000 validated image filenames.\n"
          ],
          "name": "stdout"
        }
      ]
    },
    {
      "cell_type": "markdown",
      "metadata": {
        "id": "CFXK4ZKDlYRM"
      },
      "source": [
        "## Training"
      ]
    },
    {
      "cell_type": "code",
      "metadata": {
        "colab": {
          "base_uri": "https://localhost:8080/"
        },
        "id": "SnaVJeOfysrk",
        "outputId": "a2abca6b-b36a-4021-f871-7615e94c9335"
      },
      "source": [
        "inputs = tf.keras.Input(shape=(240, 240, 3))\n",
        "x = tf.keras.layers.Conv2D(filters=16, kernel_size=(3, 3), activation='relu')(inputs)\n",
        "x = tf.keras.layers.MaxPool2D()(x)\n",
        "x = tf.keras.layers.Conv2D(filters=32, kernel_size=(3, 3), activation='relu')(x)\n",
        "x = tf.keras.layers.MaxPool2D()(x)\n",
        "x = tf.keras.layers.GlobalAveragePooling2D()(x)\n",
        "x = tf.keras.layers.Dense(64, activation='relu')(x)\n",
        "x = tf.keras.layers.Dense(64, activation='relu')(x)\n",
        "outputs = tf.keras.layers.Dense(1, activation='linear')(x)\n",
        "\n",
        "model = tf.keras.Model(inputs=inputs, outputs=outputs)\n",
        "\n",
        "model.compile(\n",
        "    optimizer='adam',\n",
        "    loss='mse'\n",
        ")\n",
        "\n",
        "history = model.fit(\n",
        "    train_images,\n",
        "    validation_data=val_images,\n",
        "    epochs=100,\n",
        "    callbacks=[\n",
        "               tf.keras.callbacks.EarlyStopping(\n",
        "                   monitor='val_loss',\n",
        "                   patience=5,\n",
        "                   restore_best_weights=True\n",
        "                   )\n",
        "               ]\n",
        ")"
      ],
      "execution_count": null,
      "outputs": [
        {
          "output_type": "stream",
          "text": [
            "Epoch 1/100\n",
            "299/299 [==============================] - 49s 58ms/step - loss: 1565.7616 - val_loss: 1419.1700\n",
            "Epoch 2/100\n",
            "299/299 [==============================] - 18s 62ms/step - loss: 1374.7986 - val_loss: 1341.0037\n",
            "Epoch 3/100\n",
            "299/299 [==============================] - 17s 58ms/step - loss: 1243.9266 - val_loss: 1229.4694\n",
            "Epoch 4/100\n",
            "299/299 [==============================] - 17s 58ms/step - loss: 1150.9778 - val_loss: 1117.7744\n",
            "Epoch 5/100\n",
            "299/299 [==============================] - 18s 59ms/step - loss: 1054.0308 - val_loss: 1027.8334\n",
            "Epoch 6/100\n",
            "299/299 [==============================] - 18s 61ms/step - loss: 881.0495 - val_loss: 797.8544\n",
            "Epoch 7/100\n",
            "299/299 [==============================] - 18s 59ms/step - loss: 709.1497 - val_loss: 765.0563\n",
            "Epoch 8/100\n",
            "299/299 [==============================] - 17s 57ms/step - loss: 637.8347 - val_loss: 627.2744\n",
            "Epoch 9/100\n",
            "299/299 [==============================] - 18s 61ms/step - loss: 593.7038 - val_loss: 581.5167\n",
            "Epoch 10/100\n",
            "299/299 [==============================] - 18s 62ms/step - loss: 561.5656 - val_loss: 560.9561\n",
            "Epoch 11/100\n",
            "299/299 [==============================] - 19s 63ms/step - loss: 566.8562 - val_loss: 564.3940\n",
            "Epoch 12/100\n",
            "299/299 [==============================] - 18s 60ms/step - loss: 520.5081 - val_loss: 500.4897\n",
            "Epoch 13/100\n",
            "299/299 [==============================] - 18s 59ms/step - loss: 505.5692 - val_loss: 520.0372\n",
            "Epoch 14/100\n",
            "299/299 [==============================] - 18s 59ms/step - loss: 491.7274 - val_loss: 504.6306\n",
            "Epoch 15/100\n",
            "299/299 [==============================] - 18s 61ms/step - loss: 487.7650 - val_loss: 442.4348\n",
            "Epoch 16/100\n",
            "299/299 [==============================] - 17s 57ms/step - loss: 445.7515 - val_loss: 452.1624\n",
            "Epoch 17/100\n",
            "299/299 [==============================] - 17s 57ms/step - loss: 419.4928 - val_loss: 402.0313\n",
            "Epoch 18/100\n",
            "299/299 [==============================] - 18s 60ms/step - loss: 390.6749 - val_loss: 422.7077\n",
            "Epoch 19/100\n",
            "299/299 [==============================] - 18s 61ms/step - loss: 354.1039 - val_loss: 331.9118\n",
            "Epoch 20/100\n",
            "299/299 [==============================] - 17s 58ms/step - loss: 340.7676 - val_loss: 314.5137\n",
            "Epoch 21/100\n",
            "299/299 [==============================] - 17s 57ms/step - loss: 298.4777 - val_loss: 282.9687\n",
            "Epoch 22/100\n",
            "299/299 [==============================] - 19s 62ms/step - loss: 290.9958 - val_loss: 275.1237\n",
            "Epoch 23/100\n",
            "299/299 [==============================] - 18s 59ms/step - loss: 291.2862 - val_loss: 281.2915\n",
            "Epoch 24/100\n",
            "299/299 [==============================] - 17s 58ms/step - loss: 266.5197 - val_loss: 282.2538\n",
            "Epoch 25/100\n",
            "299/299 [==============================] - 17s 58ms/step - loss: 272.1244 - val_loss: 240.7453\n",
            "Epoch 26/100\n",
            "299/299 [==============================] - 18s 62ms/step - loss: 260.3083 - val_loss: 248.9771\n",
            "Epoch 27/100\n",
            "299/299 [==============================] - 18s 60ms/step - loss: 257.1048 - val_loss: 223.0713\n",
            "Epoch 28/100\n",
            "299/299 [==============================] - 18s 62ms/step - loss: 246.5338 - val_loss: 225.4912\n",
            "Epoch 29/100\n",
            "299/299 [==============================] - 17s 58ms/step - loss: 223.3210 - val_loss: 238.4384\n",
            "Epoch 30/100\n",
            "299/299 [==============================] - 17s 57ms/step - loss: 226.1289 - val_loss: 334.4306\n",
            "Epoch 31/100\n",
            "299/299 [==============================] - 18s 60ms/step - loss: 209.3626 - val_loss: 200.3698\n",
            "Epoch 32/100\n",
            "299/299 [==============================] - 18s 59ms/step - loss: 222.7451 - val_loss: 189.4355\n",
            "Epoch 33/100\n",
            "299/299 [==============================] - 17s 57ms/step - loss: 212.3579 - val_loss: 187.6508\n",
            "Epoch 34/100\n",
            "299/299 [==============================] - 17s 57ms/step - loss: 200.0640 - val_loss: 206.9644\n",
            "Epoch 35/100\n",
            "299/299 [==============================] - 18s 62ms/step - loss: 196.8311 - val_loss: 182.0586\n",
            "Epoch 36/100\n",
            "299/299 [==============================] - 18s 60ms/step - loss: 197.4077 - val_loss: 182.9629\n",
            "Epoch 37/100\n",
            "299/299 [==============================] - 17s 57ms/step - loss: 189.2901 - val_loss: 178.2523\n",
            "Epoch 38/100\n",
            "299/299 [==============================] - 17s 57ms/step - loss: 188.3458 - val_loss: 160.4951\n",
            "Epoch 39/100\n",
            "299/299 [==============================] - 19s 62ms/step - loss: 177.0733 - val_loss: 239.2528\n",
            "Epoch 40/100\n",
            "299/299 [==============================] - 17s 58ms/step - loss: 178.4728 - val_loss: 157.6600\n",
            "Epoch 41/100\n",
            "299/299 [==============================] - 17s 57ms/step - loss: 173.5537 - val_loss: 187.9840\n",
            "Epoch 42/100\n",
            "299/299 [==============================] - 18s 59ms/step - loss: 167.2281 - val_loss: 161.5613\n",
            "Epoch 43/100\n",
            "299/299 [==============================] - 18s 62ms/step - loss: 162.1806 - val_loss: 158.2310\n",
            "Epoch 44/100\n",
            "299/299 [==============================] - 17s 57ms/step - loss: 157.0430 - val_loss: 159.4955\n",
            "Epoch 45/100\n",
            "299/299 [==============================] - 17s 57ms/step - loss: 157.9145 - val_loss: 159.1658\n"
          ],
          "name": "stdout"
        }
      ]
    },
    {
      "cell_type": "markdown",
      "metadata": {
        "id": "4Lm11foPl0Eo"
      },
      "source": [
        "## Results"
      ]
    },
    {
      "cell_type": "code",
      "metadata": {
        "id": "fnGu7N8al25-"
      },
      "source": [
        "from sklearn.metrics import r2_score"
      ],
      "execution_count": null,
      "outputs": []
    },
    {
      "cell_type": "code",
      "metadata": {
        "id": "jDFy-Sm9y1X-",
        "colab": {
          "base_uri": "https://localhost:8080/",
          "height": 346
        },
        "outputId": "205c1cb8-bb3b-4de5-f3e3-9bac08698bd3"
      },
      "source": [
        "# plot loss\n",
        "loss = history.history['loss']\n",
        "val_loss = history.history['val_loss']\n",
        "\n",
        "epochs = range(len(loss))\n",
        "\n",
        "plt.plot(epochs, loss, 'r', label = 'Training loss')\n",
        "plt.plot(epochs, val_loss, 'b', label='Validation loss')\n",
        "plt.title('Training and validation loss')\n",
        "plt.xlabel('epoch')\n",
        "plt.ylabel('loss')\n",
        "plt.legend(loc=0)\n",
        "plt.figure()\n",
        "\n",
        "plt.show()\n",
        "\n",
        "predicted_locations = np.squeeze(model.predict(test_images))\n",
        "true_locations = test_images.labels\n",
        "\n",
        "# root mean square error - average distance between the predicted values from the model and the actual values in the dataset\n",
        "rmse = np.sqrt(model.evaluate(test_images, verbose=0))\n",
        "print(\"Test RMSE: {:.5f}\".format(rmse))\n",
        "\n",
        "# r2 score - to what extent the variance of one variable explains the variance of the second variable\n",
        "r2 = r2_score(true_locations, predicted_locations)\n",
        "print(\"Test R^2 Score: {:.5f}%\".format(r2*100))"
      ],
      "execution_count": null,
      "outputs": [
        {
          "output_type": "display_data",
          "data": {
            "image/png": "[encoded data removed]",
            "text/plain": [
              "<Figure size 432x288 with 1 Axes>"
            ]
          },
          "metadata": {
            "tags": [],
            "needs_background": "light"
          }
        },
        {
          "output_type": "display_data",
          "data": {
            "text/plain": [
              "<Figure size 432x288 with 0 Axes>"
            ]
          },
          "metadata": {
            "tags": []
          }
        },
        {
          "output_type": "stream",
          "text": [
            "Test RMSE: 12.61945\n",
            "Test R^2 Score: 89.06270%\n"
          ],
          "name": "stdout"
        }
      ]
    },
    {
      "cell_type": "code",
      "metadata": {
        "id": "BOSg1TyRukti",
        "colab": {
          "resources": {
            "http://localhost:8080/nbextensions/google.colab/files.js": {
              "data": "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",
              "ok": true,
              "headers": [
                [
                  "content-type",
                  "application/javascript"
                ]
              ],
              "status": 200,
              "status_text": ""
            }
          },
          "base_uri": "https://localhost:8080/",
          "height": 106
        },
        "outputId": "0237ca69-47f7-4d51-88d0-8b06053e0d67"
      },
      "source": [
        "#test out-of-sample images by SEPERATE UPLOAD\n",
        "from google.colab import files\n",
        "from keras.preprocessing import image\n",
        "\n",
        "uploaded = files.upload()\n",
        "\n",
        "for fn in uploaded.keys():\n",
        "  path = fn\n",
        "  img = image.load_img(path, target_size = (240,240))\n",
        "  x = image.img_to_array(img)\n",
        "  x = np.expand_dims(x, axis = 0)\n",
        "\n",
        "  images = np.vstack([x])\n",
        "  location = model.predict(images, batch_size=1)\n",
        "  print(\"\\nLocation: \" + str(round(location[0][0])))"
      ],
      "execution_count": null,
      "outputs": [
        {
          "output_type": "display_data",
          "data": {
            "text/html": [
              "\n",
              "     <input type=\"file\" id=\"files-0e394daa-1ba7-4472-af17-5dfd0ae35d6b\" name=\"files[]\" multiple disabled\n",
              "        style=\"border:none\" />\n",
              "     <output id=\"result-0e394daa-1ba7-4472-af17-5dfd0ae35d6b\">\n",
              "      Upload widget is only available when the cell has been executed in the\n",
              "      current browser session. Please rerun this cell to enable.\n",
              "      </output>\n",
              "      <script src=\"/nbextensions/google.colab/files.js\"></script> "
            ],
            "text/plain": [
              "<IPython.core.display.HTML object>"
            ]
          },
          "metadata": {
            "tags": []
          }
        },
        {
          "output_type": "stream",
          "text": [
            "Saving axi100.jpg to axi100.jpg\n",
            "\n",
            "Location: 111\n"
          ],
          "name": "stdout"
        }
      ]
    },
    {
      "cell_type": "code",
      "metadata": {
        "id": "zRyljTlctPmq"
      },
      "source": [
        ""
      ],
      "execution_count": null,
      "outputs": []
    }
  ]
}